{
 "cells": [
  {
   "cell_type": "markdown",
   "id": "f2d4440f-9d68-45b1-acdb-a8d34466115f",
   "metadata": {},
   "source": [
    "# The data behind Carlsbad's local emergency on ebike, bike and traffic safety\n",
    "\n",
    "<b>Luke Harold</b>"
   ]
  },
  {
   "cell_type": "markdown",
   "id": "c96a3f8b-1880-45db-be2a-68cf48f4799f",
   "metadata": {},
   "source": [
    "The city of Carlsbad declared a local state of emergency on Aug. 23 due to a surge in accidents related to ebikes and bicycles. The proclamation cites 30 accidents in 2019, 62 in 2020, 100 in 2021 and 57 as of the end of July 2022. Through a public records request, I obtained the data that further describes each accident. Here are some of the key findings: "
   ]
  },
  {
   "cell_type": "code",
   "execution_count": 11,
   "id": "eae47345-7b70-4fda-a73e-ae38f5fa99cf",
   "metadata": {},
   "outputs": [],
   "source": [
    "import pandas as pd "
   ]
  },
  {
   "cell_type": "code",
   "execution_count": 12,
   "id": "a4ab2dd2-7818-4b54-a3a4-819d6e3fffac",
   "metadata": {},
   "outputs": [],
   "source": [
    "collisions = pd.read_csv(\"collision_data.csv\")"
   ]
  },
  {
   "cell_type": "code",
   "execution_count": 13,
   "id": "feaf2de0-a496-4776-9d05-928f50c8e9c6",
   "metadata": {},
   "outputs": [
    {
     "name": "stdout",
     "output_type": "stream",
     "text": [
      "<class 'pandas.core.frame.DataFrame'>\n",
      "RangeIndex: 249 entries, 0 to 248\n",
      "Data columns (total 12 columns):\n",
      " #   Column            Non-Null Count  Dtype  \n",
      "---  ------            --------------  -----  \n",
      " 0   date              249 non-null    object \n",
      " 1   report_no         249 non-null    object \n",
      " 2   address           249 non-null    object \n",
      " 3   Latitude          249 non-null    float64\n",
      " 4   Longitude         249 non-null    float64\n",
      " 5   distance_in_ft    249 non-null    int64  \n",
      " 6   direction         249 non-null    object \n",
      " 7   day               249 non-null    object \n",
      " 8   collision_factor  241 non-null    object \n",
      " 9   collision_type    249 non-null    object \n",
      " 10  involved_with     249 non-null    object \n",
      " 11  vehicle_type      249 non-null    object \n",
      "dtypes: float64(2), int64(1), object(9)\n",
      "memory usage: 23.5+ KB\n"
     ]
    }
   ],
   "source": [
    "collisions.info()"
   ]
  },
  {
   "cell_type": "code",
   "execution_count": 14,
   "id": "b20604ef-fabb-4a5f-8dea-4ff0bc5b12bc",
   "metadata": {},
   "outputs": [],
   "source": [
    "other_collisions = collisions[collisions.collision_type == \"Other\"]"
   ]
  },
  {
   "cell_type": "code",
   "execution_count": null,
   "id": "833691c4-02df-4f7e-9951-ae34003cd8f7",
   "metadata": {},
   "outputs": [],
   "source": [
    "## year over year increases"
   ]
  },
  {
   "cell_type": "code",
   "execution_count": 58,
   "id": "9e2f96dc-31fa-49d1-bcaf-715ec99029d9",
   "metadata": {},
   "outputs": [
    {
     "data": {
      "text/plain": [
       "1.0666666666666667"
      ]
     },
     "execution_count": 58,
     "metadata": {},
     "output_type": "execute_result"
    }
   ],
   "source": [
    "(62-30)/30"
   ]
  },
  {
   "cell_type": "code",
   "execution_count": 59,
   "id": "2ea2c3f3-dbbd-4732-a6ce-d88ea2de2e9f",
   "metadata": {},
   "outputs": [
    {
     "data": {
      "text/plain": [
       "0.6129032258064516"
      ]
     },
     "execution_count": 59,
     "metadata": {},
     "output_type": "execute_result"
    }
   ],
   "source": [
    "(100-62)/62"
   ]
  },
  {
   "cell_type": "code",
   "execution_count": 63,
   "id": "d8732214-4482-411d-b96b-d0975fa3a302",
   "metadata": {},
   "outputs": [
    {
     "data": {
      "text/plain": [
       "0.08"
      ]
     },
     "execution_count": 63,
     "metadata": {},
     "output_type": "execute_result"
    }
   ],
   "source": [
    "(108-100)/100"
   ]
  },
  {
   "cell_type": "code",
   "execution_count": 68,
   "id": "feb1d9bb-d3ac-469f-93b2-d55d413754ba",
   "metadata": {},
   "outputs": [
    {
     "data": {
      "text/plain": [
       "2.3333333333333335"
      ]
     },
     "execution_count": 68,
     "metadata": {},
     "output_type": "execute_result"
    }
   ],
   "source": [
    "(100-30)/30"
   ]
  },
  {
   "cell_type": "markdown",
   "id": "6e4699a9-5e17-4d0b-9292-22277d762bb1",
   "metadata": {},
   "source": [
    "# 1. One-third of accidents were on Friday and Saturday"
   ]
  },
  {
   "cell_type": "code",
   "execution_count": 16,
   "id": "c8617947-4cff-4b63-bdb9-c72f0b934a24",
   "metadata": {},
   "outputs": [
    {
     "data": {
      "text/plain": [
       "day\n",
       "Saturday     45\n",
       "Friday       39\n",
       "Thursday     37\n",
       "Wednesday    37\n",
       "Sunday       33\n",
       "Tuesday      32\n",
       "Monday       26\n",
       "dtype: int64"
      ]
     },
     "execution_count": 16,
     "metadata": {},
     "output_type": "execute_result"
    }
   ],
   "source": [
    "collisions.value_counts(\"day\")"
   ]
  },
  {
   "cell_type": "code",
   "execution_count": 17,
   "id": "2033abd3-3449-489a-b72e-cba9dd91f8f7",
   "metadata": {},
   "outputs": [
    {
     "data": {
      "text/plain": [
       "249"
      ]
     },
     "execution_count": 17,
     "metadata": {},
     "output_type": "execute_result"
    }
   ],
   "source": [
    "45+39+37+37+33+32+26"
   ]
  },
  {
   "cell_type": "code",
   "execution_count": 18,
   "id": "63883d3e-00b9-4b97-acd6-8e293b6e6257",
   "metadata": {},
   "outputs": [
    {
     "data": {
      "text/plain": [
       "0.3373493975903614"
      ]
     },
     "execution_count": 18,
     "metadata": {},
     "output_type": "execute_result"
    }
   ],
   "source": [
    "(45+39)/249"
   ]
  },
  {
   "cell_type": "code",
   "execution_count": 19,
   "id": "0a158df9-77db-4daf-9d05-332ab9dfcb9a",
   "metadata": {},
   "outputs": [
    {
     "data": {
      "text/plain": [
       "58"
      ]
     },
     "execution_count": 19,
     "metadata": {},
     "output_type": "execute_result"
    }
   ],
   "source": [
    "26+32"
   ]
  },
  {
   "cell_type": "code",
   "execution_count": 20,
   "id": "ad48de50-b29f-436e-abbf-0eaad81b6c9b",
   "metadata": {},
   "outputs": [
    {
     "data": {
      "text/plain": [
       "1.7307692307692308"
      ]
     },
     "execution_count": 20,
     "metadata": {},
     "output_type": "execute_result"
    }
   ],
   "source": [
    "45/26"
   ]
  },
  {
   "cell_type": "markdown",
   "id": "c27cacd1-e597-4334-ae77-f83670ede4ff",
   "metadata": {},
   "source": [
    "# 2. Nearly two-thirds of collision types were classified as \"other,\" \"broadside,\" or \"sideswipe\""
   ]
  },
  {
   "cell_type": "code",
   "execution_count": 73,
   "id": "61be5939-da59-48f9-b4ee-1d1f421ff5f5",
   "metadata": {},
   "outputs": [],
   "source": [
    "type = collisions.value_counts(\"collision_type\")"
   ]
  },
  {
   "cell_type": "code",
   "execution_count": 76,
   "id": "bbe10572-d393-4880-8d9c-df15fff1eb71",
   "metadata": {},
   "outputs": [],
   "source": [
    "type.to_csv(r'~/Documents/carlsbad_accidents/type.csv')"
   ]
  },
  {
   "cell_type": "code",
   "execution_count": 43,
   "id": "8228b8ad-4a84-42c3-9487-2d2e6d97172c",
   "metadata": {},
   "outputs": [
    {
     "data": {
      "text/plain": [
       "0.8795180722891566"
      ]
     },
     "execution_count": 43,
     "metadata": {},
     "output_type": "execute_result"
    }
   ],
   "source": [
    "(63+57+37+34+28)/249"
   ]
  },
  {
   "cell_type": "markdown",
   "id": "1b4875ac-340f-4e6c-a31e-1c60c230dfab",
   "metadata": {},
   "source": [
    "# 3. About 65% of accidents were due to unsafe speed, improper turning, auto right of way violation or other improper driving "
   ]
  },
  {
   "cell_type": "code",
   "execution_count": 70,
   "id": "c7610c9b-0366-498d-8e1c-7f8d8fd0b053",
   "metadata": {},
   "outputs": [],
   "source": [
    "factor = collisions.value_counts(\"collision_factor\").reset_index()"
   ]
  },
  {
   "cell_type": "code",
   "execution_count": 75,
   "id": "ac0149c4-aaed-4342-9207-443344f0a7a4",
   "metadata": {},
   "outputs": [],
   "source": [
    "factor.to_csv(r'~/Documents/carlsbad_accidents/factor.csv')"
   ]
  },
  {
   "cell_type": "code",
   "execution_count": 72,
   "id": "a1d61437-9084-410e-8cc3-99e8f277cc4c",
   "metadata": {},
   "outputs": [
    {
     "data": {
      "text/html": [
       "<div>\n",
       "<style scoped>\n",
       "    .dataframe tbody tr th:only-of-type {\n",
       "        vertical-align: middle;\n",
       "    }\n",
       "\n",
       "    .dataframe tbody tr th {\n",
       "        vertical-align: top;\n",
       "    }\n",
       "\n",
       "    .dataframe thead th {\n",
       "        text-align: right;\n",
       "    }\n",
       "</style>\n",
       "<table border=\"1\" class=\"dataframe\">\n",
       "  <thead>\n",
       "    <tr style=\"text-align: right;\">\n",
       "      <th></th>\n",
       "      <th>collision_factor</th>\n",
       "      <th>0</th>\n",
       "    </tr>\n",
       "  </thead>\n",
       "  <tbody>\n",
       "    <tr>\n",
       "      <th>0</th>\n",
       "      <td>Unsafe Speed</td>\n",
       "      <td>67</td>\n",
       "    </tr>\n",
       "    <tr>\n",
       "      <th>1</th>\n",
       "      <td>Improper Turning</td>\n",
       "      <td>52</td>\n",
       "    </tr>\n",
       "    <tr>\n",
       "      <th>2</th>\n",
       "      <td>Auto R/W Violation</td>\n",
       "      <td>26</td>\n",
       "    </tr>\n",
       "    <tr>\n",
       "      <th>3</th>\n",
       "      <td>Other Improper Driving</td>\n",
       "      <td>17</td>\n",
       "    </tr>\n",
       "    <tr>\n",
       "      <th>4</th>\n",
       "      <td>Unknown</td>\n",
       "      <td>15</td>\n",
       "    </tr>\n",
       "    <tr>\n",
       "      <th>5</th>\n",
       "      <td>Traffic Signals and Signs</td>\n",
       "      <td>14</td>\n",
       "    </tr>\n",
       "    <tr>\n",
       "      <th>6</th>\n",
       "      <td>Other Than Driver</td>\n",
       "      <td>13</td>\n",
       "    </tr>\n",
       "    <tr>\n",
       "      <th>7</th>\n",
       "      <td>Other Hazardous Movement</td>\n",
       "      <td>11</td>\n",
       "    </tr>\n",
       "    <tr>\n",
       "      <th>8</th>\n",
       "      <td>Driving Under Influence</td>\n",
       "      <td>8</td>\n",
       "    </tr>\n",
       "    <tr>\n",
       "      <th>9</th>\n",
       "      <td>Following Too Closely</td>\n",
       "      <td>4</td>\n",
       "    </tr>\n",
       "    <tr>\n",
       "      <th>10</th>\n",
       "      <td>Unsafe Lane Change</td>\n",
       "      <td>4</td>\n",
       "    </tr>\n",
       "    <tr>\n",
       "      <th>11</th>\n",
       "      <td>Ped R/W Violation</td>\n",
       "      <td>3</td>\n",
       "    </tr>\n",
       "    <tr>\n",
       "      <th>12</th>\n",
       "      <td>Wrong Side of Road</td>\n",
       "      <td>3</td>\n",
       "    </tr>\n",
       "    <tr>\n",
       "      <th>13</th>\n",
       "      <td>Improper Passing</td>\n",
       "      <td>2</td>\n",
       "    </tr>\n",
       "    <tr>\n",
       "      <th>14</th>\n",
       "      <td>Not Stated</td>\n",
       "      <td>1</td>\n",
       "    </tr>\n",
       "    <tr>\n",
       "      <th>15</th>\n",
       "      <td>Pedestrian Violation</td>\n",
       "      <td>1</td>\n",
       "    </tr>\n",
       "  </tbody>\n",
       "</table>\n",
       "</div>"
      ],
      "text/plain": [
       "             collision_factor   0\n",
       "0                Unsafe Speed  67\n",
       "1            Improper Turning  52\n",
       "2          Auto R/W Violation  26\n",
       "3      Other Improper Driving  17\n",
       "4                     Unknown  15\n",
       "5   Traffic Signals and Signs  14\n",
       "6           Other Than Driver  13\n",
       "7    Other Hazardous Movement  11\n",
       "8     Driving Under Influence   8\n",
       "9       Following Too Closely   4\n",
       "10         Unsafe Lane Change   4\n",
       "11          Ped R/W Violation   3\n",
       "12         Wrong Side of Road   3\n",
       "13           Improper Passing   2\n",
       "14                 Not Stated   1\n",
       "15       Pedestrian Violation   1"
      ]
     },
     "execution_count": 72,
     "metadata": {},
     "output_type": "execute_result"
    }
   ],
   "source": [
    "factor"
   ]
  },
  {
   "cell_type": "code",
   "execution_count": 24,
   "id": "d31fc028-ed8a-4a9a-94f7-5a0b4d9f227f",
   "metadata": {},
   "outputs": [
    {
     "data": {
      "text/plain": [
       "0.6506024096385542"
      ]
     },
     "execution_count": 24,
     "metadata": {},
     "output_type": "execute_result"
    }
   ],
   "source": [
    "(67+52+26+17)/249"
   ]
  },
  {
   "cell_type": "markdown",
   "id": "e1abdc44-9726-4edb-aeb1-7c2bddb51291",
   "metadata": {},
   "source": [
    "# 4. Many of the accidents are concentrated by the coast"
   ]
  },
  {
   "cell_type": "markdown",
   "id": "39f3bbdd-9d8c-4ab1-837e-777eaa02c004",
   "metadata": {},
   "source": [
    "Map of census tracts:\n",
    "\n",
    "https://www2.census.gov/geo/maps/DC2020/PL20/st06_ca/censustract_maps/c06073_san_diego/DC20CT_C06073.pdf"
   ]
  },
  {
   "cell_type": "code",
   "execution_count": null,
   "id": "a64855ae-7370-4128-acf8-e2f3068ed1fa",
   "metadata": {},
   "outputs": [],
   "source": [
    "## breakdown by census tract"
   ]
  },
  {
   "cell_type": "code",
   "execution_count": 29,
   "id": "ffbf3fdc-3265-493c-a2fd-ada2ada69396",
   "metadata": {},
   "outputs": [],
   "source": [
    "bike_accidents = pd.read_csv(\"bicycleaccidentsbycensustract.csv\")"
   ]
  },
  {
   "cell_type": "code",
   "execution_count": 30,
   "id": "1f655818-a5f5-4438-9de0-5d391ff50ccc",
   "metadata": {},
   "outputs": [
    {
     "name": "stdout",
     "output_type": "stream",
     "text": [
      "<class 'pandas.core.frame.DataFrame'>\n",
      "RangeIndex: 174 entries, 0 to 173\n",
      "Data columns (total 29 columns):\n",
      " #   Column            Non-Null Count  Dtype  \n",
      "---  ------            --------------  -----  \n",
      " 0   field_1           174 non-null    int64  \n",
      " 1   date              174 non-null    object \n",
      " 2   report_no         174 non-null    object \n",
      " 3   address           174 non-null    object \n",
      " 4   Latitude          174 non-null    float64\n",
      " 5   Longitude         174 non-null    float64\n",
      " 6   distance_in_ft    174 non-null    int64  \n",
      " 7   direction         174 non-null    object \n",
      " 8   day               174 non-null    int64  \n",
      " 9   collision_factor  168 non-null    object \n",
      " 10  collision_type    174 non-null    object \n",
      " 11  involved_with     174 non-null    object \n",
      " 12  vehicle_type      174 non-null    object \n",
      " 13  month             174 non-null    int64  \n",
      " 14  year              174 non-null    int64  \n",
      " 15  STATEFP           174 non-null    int64  \n",
      " 16  COUNTYFP          174 non-null    int64  \n",
      " 17  TRACTCE           174 non-null    int64  \n",
      " 18  GEOID             174 non-null    int64  \n",
      " 19  NAME              174 non-null    float64\n",
      " 20  NAMELSAD          174 non-null    object \n",
      " 21  MTFCC             174 non-null    object \n",
      " 22  FUNCSTAT          174 non-null    object \n",
      " 23  ALAND             174 non-null    float64\n",
      " 24  AWATER            174 non-null    float64\n",
      " 25  INTPTLAT          174 non-null    float64\n",
      " 26  INTPTLON          174 non-null    float64\n",
      " 27  Shape_STAr        174 non-null    float64\n",
      " 28  Shape_STLe        174 non-null    float64\n",
      "dtypes: float64(9), int64(9), object(11)\n",
      "memory usage: 39.5+ KB\n"
     ]
    }
   ],
   "source": [
    "bike_accidents.info()"
   ]
  },
  {
   "cell_type": "code",
   "execution_count": 31,
   "id": "6aab4709-63a4-4a7d-b609-2ee49e47264c",
   "metadata": {},
   "outputs": [
    {
     "data": {
      "text/plain": [
       "Census Tract 180       29\n",
       "Census Tract 178.13    29\n",
       "Census Tract 179.01    14\n",
       "Census Tract 198.11    13\n",
       "Census Tract 221.01    11\n",
       "Census Tract 178.01    10\n",
       "Census Tract 178.10     9\n",
       "Census Tract 178.09     7\n",
       "Census Tract 171.09     6\n",
       "Census Tract 176.01     6\n",
       "Census Tract 221.02     5\n",
       "Census Tract 178.11     5\n",
       "Census Tract 200.30     5\n",
       "Census Tract 198.03     5\n",
       "Census Tract 179.02     3\n",
       "Census Tract 178.08     3\n",
       "Census Tract 200.31     3\n",
       "Census Tract 198.04     3\n",
       "Census Tract 200.15     2\n",
       "Census Tract 200.32     2\n",
       "Census Tract 200.35     2\n",
       "Census Tract 200.34     1\n",
       "Census Tract 200.17     1\n",
       "Name: NAMELSAD, dtype: int64"
      ]
     },
     "execution_count": 31,
     "metadata": {},
     "output_type": "execute_result"
    }
   ],
   "source": [
    "bike_accidents.NAMELSAD.value_counts()"
   ]
  },
  {
   "cell_type": "code",
   "execution_count": 32,
   "id": "eab3cf41-6960-444c-92e2-3d134b16af34",
   "metadata": {},
   "outputs": [
    {
     "data": {
      "text/plain": [
       "18000    29\n",
       "17813    29\n",
       "17901    14\n",
       "19811    13\n",
       "22101    11\n",
       "17801    10\n",
       "17810     9\n",
       "17809     7\n",
       "17109     6\n",
       "17601     6\n",
       "22102     5\n",
       "17811     5\n",
       "20030     5\n",
       "19803     5\n",
       "17902     3\n",
       "17808     3\n",
       "20031     3\n",
       "19804     3\n",
       "20015     2\n",
       "20032     2\n",
       "20035     2\n",
       "20034     1\n",
       "20017     1\n",
       "Name: TRACTCE, dtype: int64"
      ]
     },
     "execution_count": 32,
     "metadata": {},
     "output_type": "execute_result"
    }
   ],
   "source": [
    "bike_accidents.TRACTCE.value_counts()"
   ]
  },
  {
   "cell_type": "code",
   "execution_count": 33,
   "id": "63b8185b-7b9a-4204-8c56-7ca1cd453745",
   "metadata": {},
   "outputs": [],
   "source": [
    "ebike_accidents = pd.read_csv(\"ebikeaccidentsbycensustract.csv\")"
   ]
  },
  {
   "cell_type": "code",
   "execution_count": null,
   "id": "c61250bb-b399-4fa2-a4da-3028fe90fab9",
   "metadata": {},
   "outputs": [],
   "source": [
    "ebike_accidents.TRACTCE.value_counts()"
   ]
  },
  {
   "cell_type": "code",
   "execution_count": null,
   "id": "aa15d065-7302-4a20-a13d-504bcf3af6e8",
   "metadata": {},
   "outputs": [],
   "source": [
    "ebike_accidents.NAMELSAD.value_counts()"
   ]
  },
  {
   "cell_type": "code",
   "execution_count": 34,
   "id": "78520dc1-409e-4934-b006-f4a1da9edbd2",
   "metadata": {},
   "outputs": [],
   "source": [
    "all_accidents = pd.concat([bike_accidents, ebike_accidents])"
   ]
  },
  {
   "cell_type": "code",
   "execution_count": 35,
   "id": "ddd72037-118c-4914-9c25-26de82fc379a",
   "metadata": {},
   "outputs": [
    {
     "data": {
      "text/plain": [
       "Census Tract 178.13    37\n",
       "Census Tract 180       35\n",
       "Census Tract 179.01    20\n",
       "Census Tract 198.11    18\n",
       "Census Tract 178.01    14\n",
       "Census Tract 221.01    13\n",
       "Census Tract 178.10    13\n",
       "Census Tract 178.09    12\n",
       "Census Tract 171.09    10\n",
       "Census Tract 200.30     9\n",
       "Census Tract 179.02     8\n",
       "Census Tract 176.01     8\n",
       "Census Tract 178.08     7\n",
       "Census Tract 178.11     7\n",
       "Census Tract 221.02     6\n",
       "Census Tract 198.03     6\n",
       "Census Tract 200.31     4\n",
       "Census Tract 198.04     4\n",
       "Census Tract 200.15     3\n",
       "Census Tract 200.35     3\n",
       "Census Tract 198.10     3\n",
       "Census Tract 200.32     2\n",
       "Census Tract 200.34     2\n",
       "Census Tract 200.33     2\n",
       "Census Tract 200.17     1\n",
       "Census Tract 181.02     1\n",
       "Census Tract 171.13     1\n",
       "Name: NAMELSAD, dtype: int64"
      ]
     },
     "execution_count": 35,
     "metadata": {},
     "output_type": "execute_result"
    }
   ],
   "source": [
    "all_accidents.NAMELSAD.value_counts()"
   ]
  },
  {
   "cell_type": "code",
   "execution_count": 46,
   "id": "ffccb179-f83e-4d58-a1e5-dc599f59e452",
   "metadata": {},
   "outputs": [
    {
     "data": {
      "text/plain": [
       "0.25301204819277107"
      ]
     },
     "execution_count": 46,
     "metadata": {},
     "output_type": "execute_result"
    }
   ],
   "source": [
    "(35+20+8)/249"
   ]
  },
  {
   "cell_type": "code",
   "execution_count": null,
   "id": "287b7391-b36a-4732-87d0-7379f1ce58c5",
   "metadata": {},
   "outputs": [],
   "source": []
  },
  {
   "cell_type": "code",
   "execution_count": null,
   "id": "84afff21-6657-4ee3-8dec-7289453ccd6c",
   "metadata": {},
   "outputs": [],
   "source": [
    "## code for map:"
   ]
  },
  {
   "cell_type": "code",
   "execution_count": null,
   "id": "d62f5a22-44fa-44f6-a1bf-14b7ca5e2544",
   "metadata": {},
   "outputs": [],
   "source": [
    "<iframe width='100%' height='400px' src=\"https://api.mapbox.com/styles/v1/lukeharold/cl8dkz1qp000415o5z0w15kni.html?title=false&access_token=pk.eyJ1IjoibHVrZWhhcm9sZCIsImEiOiJjbDBjZ3NhdW0wc2QzM2pwb2YwbHdjMnB0In0.lSGoSPidc4Rn54jfWNpySw&zoomwheel=false#10.81/33.1391/-117.2982\" title=\"Monochrome\" style=\"border:none;\"></iframe>\n",
    "<p style=\"font-family:verdana\">\n",
    "<caption style=\"caption-side:bottom\">Locations of accidents involving bicycle and ebike accidents in the city of Carlsbad from 2019 through July 2022, based on city data (Luke Harold)</caption>\n",
    "</p>\n",
    "<ul class=\"legend\">\n",
    "    <li style=\"color:blue\"><span class=\"Bicycle accidents\"></span> Bicycle accidents</li>\n",
    "    <li style=\"color:red\"><span class=\"Ebike accidents\"></span> Ebike accidents</li>\n",
    "</ul>"
   ]
  },
  {
   "cell_type": "code",
   "execution_count": null,
   "id": "131205b3-f031-41ad-9e74-da4802b327d0",
   "metadata": {},
   "outputs": [],
   "source": []
  },
  {
   "cell_type": "markdown",
   "id": "6cba6c68-646a-4ecc-bcfb-ae28443df349",
   "metadata": {},
   "source": [
    "# 5. 40% of the accidents happened in 2021"
   ]
  },
  {
   "cell_type": "code",
   "execution_count": 48,
   "id": "d2b7b2f4-cca9-48f1-9405-5261366a5ce9",
   "metadata": {},
   "outputs": [],
   "source": [
    "collisions['date'] = pd.to_datetime(collisions['date'])"
   ]
  },
  {
   "cell_type": "code",
   "execution_count": 49,
   "id": "93504d92-ef78-4b90-9936-b9af6ea13007",
   "metadata": {},
   "outputs": [],
   "source": [
    "collisions['day'] = collisions['date'].dt.day\n",
    "collisions['month'] = collisions['date'].dt.month\n",
    "collisions['year'] = collisions['date'].dt.year"
   ]
  },
  {
   "cell_type": "code",
   "execution_count": 50,
   "id": "be81725b-f92f-4599-882a-6580d97b8941",
   "metadata": {},
   "outputs": [
    {
     "data": {
      "text/plain": [
       "month\n",
       "7     27\n",
       "8     26\n",
       "1     25\n",
       "5     24\n",
       "2     23\n",
       "9     23\n",
       "3     21\n",
       "6     21\n",
       "10    18\n",
       "12    15\n",
       "4     13\n",
       "11    13\n",
       "dtype: int64"
      ]
     },
     "execution_count": 50,
     "metadata": {},
     "output_type": "execute_result"
    }
   ],
   "source": [
    "collisions.value_counts(\"month\")"
   ]
  },
  {
   "cell_type": "code",
   "execution_count": 51,
   "id": "87eadcd3-03c4-44ef-a8cf-6de7701a22cf",
   "metadata": {},
   "outputs": [
    {
     "data": {
      "text/plain": [
       "year\n",
       "2021    100\n",
       "2020     62\n",
       "2022     57\n",
       "2019     30\n",
       "dtype: int64"
      ]
     },
     "execution_count": 51,
     "metadata": {},
     "output_type": "execute_result"
    }
   ],
   "source": [
    "collisions.value_counts(\"year\")"
   ]
  },
  {
   "cell_type": "code",
   "execution_count": null,
   "id": "d4f39f98-abbe-4bc3-86bc-ea5029b501f9",
   "metadata": {},
   "outputs": [],
   "source": [
    "100/249"
   ]
  },
  {
   "cell_type": "code",
   "execution_count": null,
   "id": "3ff9bf13-9c12-4d9b-aa4d-b09b8c832b4e",
   "metadata": {},
   "outputs": [],
   "source": [
    "# top four months"
   ]
  },
  {
   "cell_type": "code",
   "execution_count": null,
   "id": "a82c2541-968b-4f58-8306-393fd7b20be1",
   "metadata": {},
   "outputs": [],
   "source": [
    "(27+26+25+24)/249"
   ]
  },
  {
   "cell_type": "code",
   "execution_count": 52,
   "id": "83e1c78d-8189-4dc5-a43c-53b52a616f78",
   "metadata": {},
   "outputs": [
    {
     "data": {
      "text/plain": [
       "0.2971887550200803"
      ]
     },
     "execution_count": 52,
     "metadata": {},
     "output_type": "execute_result"
    }
   ],
   "source": [
    "#summer\n",
    "\n",
    "(21+27+26)/249"
   ]
  },
  {
   "cell_type": "code",
   "execution_count": 53,
   "id": "603eae1f-1e74-4455-914a-7215eecf880c",
   "metadata": {},
   "outputs": [
    {
     "data": {
      "text/plain": [
       "0.21686746987951808"
      ]
     },
     "execution_count": 53,
     "metadata": {},
     "output_type": "execute_result"
    }
   ],
   "source": [
    "#fall\n",
    "\n",
    "(23+18+13)/249"
   ]
  },
  {
   "cell_type": "code",
   "execution_count": 54,
   "id": "ecc4b650-c1e5-4087-9de5-2b76f5b0020d",
   "metadata": {},
   "outputs": [
    {
     "data": {
      "text/plain": [
       "0.25301204819277107"
      ]
     },
     "execution_count": 54,
     "metadata": {},
     "output_type": "execute_result"
    }
   ],
   "source": [
    "#winter\n",
    "\n",
    "(15+25+23)/249"
   ]
  },
  {
   "cell_type": "code",
   "execution_count": 55,
   "id": "a9342d2a-03a8-470f-b0e9-0d4792b2741f",
   "metadata": {},
   "outputs": [
    {
     "data": {
      "text/plain": [
       "0.23293172690763053"
      ]
     },
     "execution_count": 55,
     "metadata": {},
     "output_type": "execute_result"
    }
   ],
   "source": [
    "#spring\n",
    "\n",
    "(21+13+24)/249"
   ]
  },
  {
   "cell_type": "code",
   "execution_count": null,
   "id": "2ce5cecc-8f75-43d2-ae4f-6303a35065cd",
   "metadata": {},
   "outputs": [],
   "source": []
  },
  {
   "cell_type": "markdown",
   "id": "6d3ffca0-4d64-460a-a4b7-c2ab75a09d94",
   "metadata": {},
   "source": [
    "# 6. The percentage of ebike accidents increased over the three and a half years, according to the city's data"
   ]
  },
  {
   "cell_type": "markdown",
   "id": "e72bd7e9-c25b-4c9a-9647-3de65e756441",
   "metadata": {},
   "source": [
    "2019<br>\n",
    "Ebike: 2<br>\n",
    "Bike: 28<br>\n",
    "\n",
    "2020<br>\n",
    "Ebike: 8<br>\n",
    "Bike: 54<br>\n",
    "\n",
    "2021<br>\n",
    "Ebike: 33<br>\n",
    "Bike: 67<br>\n",
    "\n",
    "2022<br>\n",
    "Ebike: 32<br>\n",
    "Bike: 25<br>"
   ]
  },
  {
   "cell_type": "code",
   "execution_count": 41,
   "id": "2bf284dc-e84b-483a-8de1-707aed428aad",
   "metadata": {},
   "outputs": [
    {
     "data": {
      "text/plain": [
       "0.5614035087719298"
      ]
     },
     "execution_count": 41,
     "metadata": {},
     "output_type": "execute_result"
    }
   ],
   "source": [
    "32/57"
   ]
  },
  {
   "cell_type": "code",
   "execution_count": null,
   "id": "5cbe8bdc-0052-499e-85d5-d5479cdabda9",
   "metadata": {},
   "outputs": [],
   "source": [
    "https://www.npd.com/news/blog/2021/the-potential-for-a-second-bike-boom-in-2022/"
   ]
  },
  {
   "cell_type": "code",
   "execution_count": null,
   "id": "0f8c585d-023e-4540-a2d0-aa533e276433",
   "metadata": {},
   "outputs": [],
   "source": [
    "## separating the data by year"
   ]
  },
  {
   "cell_type": "code",
   "execution_count": null,
   "id": "6353928d-8fb9-4fdb-98db-a6c8612ceaa0",
   "metadata": {},
   "outputs": [],
   "source": [
    "collisions19 = collisions[collisions.year == 2019]"
   ]
  },
  {
   "cell_type": "code",
   "execution_count": null,
   "id": "e0a135df-f32b-4f4a-9e5b-17b084c2f392",
   "metadata": {},
   "outputs": [],
   "source": [
    "collisions20 = collisions[collisions.year == 2020]"
   ]
  },
  {
   "cell_type": "code",
   "execution_count": null,
   "id": "aa2b2970-786d-4c9e-99c6-714608454d3c",
   "metadata": {},
   "outputs": [],
   "source": [
    "collisions21 = collisions[collisions.year == 2021]"
   ]
  },
  {
   "cell_type": "code",
   "execution_count": null,
   "id": "37e83d6b-3485-48c5-9204-ded6c009057d",
   "metadata": {},
   "outputs": [],
   "source": [
    "collisions22 = collisions[collisions.year == 2022]"
   ]
  },
  {
   "cell_type": "code",
   "execution_count": null,
   "id": "14589829-3752-4eb1-9874-b649e51b3997",
   "metadata": {},
   "outputs": [],
   "source": []
  },
  {
   "cell_type": "code",
   "execution_count": null,
   "id": "c3863bb6-e719-499c-83cd-f711d4e15930",
   "metadata": {},
   "outputs": [],
   "source": [
    "# separating the data to get a .csv of ebike accidents"
   ]
  },
  {
   "cell_type": "code",
   "execution_count": null,
   "id": "bf0a1cb2-6961-47c5-9283-46f4b5764235",
   "metadata": {},
   "outputs": [],
   "source": [
    "ebike_collisions19 = collisions19[collisions19.vehicle_type == \"Electric Bicycle\"]"
   ]
  },
  {
   "cell_type": "code",
   "execution_count": null,
   "id": "a4df24fe-7ad0-4ad1-8a52-5efbab0431eb",
   "metadata": {},
   "outputs": [],
   "source": [
    "ebike_collisions20 = collisions20[collisions20.vehicle_type == \"Electric Bicycle\"]"
   ]
  },
  {
   "cell_type": "code",
   "execution_count": null,
   "id": "75cd86fb-3b8f-4cef-b43d-efba753446b6",
   "metadata": {},
   "outputs": [],
   "source": [
    "ebike_collisions21 = collisions21[collisions21.vehicle_type == \"Electric Bicycle\"]"
   ]
  },
  {
   "cell_type": "code",
   "execution_count": null,
   "id": "fd7dbc7a-77de-4849-be13-b3fe25eda581",
   "metadata": {},
   "outputs": [],
   "source": [
    "ebike_collisions22 = collisions22[collisions22.vehicle_type == \"Electric Bicycle\"]"
   ]
  },
  {
   "cell_type": "code",
   "execution_count": null,
   "id": "06f5ebfd-0c01-425e-8af8-be5072e6b6e4",
   "metadata": {},
   "outputs": [],
   "source": [
    "ebike_collisions = pd.concat([ebike_collisions19, ebike_collisions20, ebike_collisions21, ebike_collisions22])"
   ]
  },
  {
   "cell_type": "code",
   "execution_count": null,
   "id": "c3cc9589-3d96-4dd4-a3b6-7435bccb8ebd",
   "metadata": {},
   "outputs": [],
   "source": [
    "ebike_collisions.to_csv(r'~/Documents/carlsbad_accidents/ebikeaccidents.csv')"
   ]
  },
  {
   "cell_type": "code",
   "execution_count": null,
   "id": "e1c45aa0-f2ce-4b20-8f54-56eac147e865",
   "metadata": {},
   "outputs": [],
   "source": []
  },
  {
   "cell_type": "code",
   "execution_count": null,
   "id": "ac1e691f-d841-4aa4-8f69-90efbd60eabe",
   "metadata": {},
   "outputs": [],
   "source": [
    "# separating the data to get a .csv of bike accidents"
   ]
  },
  {
   "cell_type": "code",
   "execution_count": null,
   "id": "600dc917-8fc9-493e-9866-b94f9d52a821",
   "metadata": {},
   "outputs": [],
   "source": [
    "bike_collisions19 = collisions19[collisions19.vehicle_type == \"Bicycle\"]"
   ]
  },
  {
   "cell_type": "code",
   "execution_count": null,
   "id": "5fc89f9d-2098-431f-a2eb-2ab99a109f4c",
   "metadata": {},
   "outputs": [],
   "source": [
    "bike_collisions20 = collisions20[collisions20.vehicle_type == \"Bicycle\"]"
   ]
  },
  {
   "cell_type": "code",
   "execution_count": null,
   "id": "b200c96c-7147-4bcc-a518-840617a9dc0d",
   "metadata": {},
   "outputs": [],
   "source": [
    "bike_collisions21 = collisions21[collisions21.vehicle_type == \"Bicycle\"]"
   ]
  },
  {
   "cell_type": "code",
   "execution_count": null,
   "id": "b2145828-2fea-48b9-b8d8-b06b8e260c6e",
   "metadata": {},
   "outputs": [],
   "source": [
    "bike_collisions22 = collisions22[collisions22.vehicle_type == \"Bicycle\"]"
   ]
  },
  {
   "cell_type": "code",
   "execution_count": null,
   "id": "34489d82-1b75-4ffd-9d31-48a63d7f93f3",
   "metadata": {},
   "outputs": [],
   "source": [
    "bike_collisions = pd.concat([bike_collisions19, bike_collisions20, bike_collisions21, bike_collisions22])"
   ]
  },
  {
   "cell_type": "code",
   "execution_count": null,
   "id": "41e4c985-131e-4c59-8039-f0b43668e2ee",
   "metadata": {},
   "outputs": [],
   "source": [
    "bike_collisions"
   ]
  },
  {
   "cell_type": "code",
   "execution_count": null,
   "id": "6ef65a16-1729-4ec4-bdf4-8dadd15af45f",
   "metadata": {},
   "outputs": [],
   "source": [
    "bike_collisions.to_csv(r'~/Documents/carlsbad_accidents/bikeaccidents.csv')"
   ]
  },
  {
   "cell_type": "code",
   "execution_count": null,
   "id": "fee77cb5-33c7-442b-9a3d-c312c5127e6a",
   "metadata": {},
   "outputs": [],
   "source": []
  },
  {
   "cell_type": "markdown",
   "id": "ce8d1559-435f-46b0-83e8-8e1c6d75d842",
   "metadata": {},
   "source": [
    "## 7. A little more than half of all the accidents involved cars"
   ]
  },
  {
   "cell_type": "code",
   "execution_count": null,
   "id": "ac8c176d-adaf-41fe-a56d-8bb9d508048d",
   "metadata": {},
   "outputs": [],
   "source": [
    "## see accident PDF files\n",
    "\n",
    "##Number of accidents that involved cars by year \n",
    "## 2019: 17/30\n",
    "## 2020: 35/62\n",
    "## 2021: 56/100\n",
    "## 2022*: 28/57\n",
    "\n",
    "## *2022 data is from January through July"
   ]
  },
  {
   "cell_type": "code",
   "execution_count": 77,
   "id": "bcc6cdab-3439-440a-83cf-62a9c179a16f",
   "metadata": {},
   "outputs": [
    {
     "data": {
      "text/plain": [
       "136"
      ]
     },
     "execution_count": 77,
     "metadata": {},
     "output_type": "execute_result"
    }
   ],
   "source": [
    "17+35+56+28"
   ]
  },
  {
   "cell_type": "markdown",
   "id": "782751c1-7f76-4455-a29d-4bf1269ba68f",
   "metadata": {},
   "source": [
    "# (17+35+56+28)/(30+62+100+57)"
   ]
  },
  {
   "cell_type": "code",
   "execution_count": null,
   "id": "488af53a-706d-46ff-be2b-22b75c672fd2",
   "metadata": {},
   "outputs": [],
   "source": []
  },
  {
   "cell_type": "code",
   "execution_count": null,
   "id": "418de84e-dbf4-4eff-9e39-6487145486b7",
   "metadata": {},
   "outputs": [],
   "source": []
  },
  {
   "cell_type": "code",
   "execution_count": null,
   "id": "c7b89763-66a8-43a4-9956-c3181a0e82c9",
   "metadata": {},
   "outputs": [],
   "source": []
  }
 ],
 "metadata": {
  "kernelspec": {
   "display_name": "Python 3 (ipykernel)",
   "language": "python",
   "name": "python3"
  },
  "language_info": {
   "codemirror_mode": {
    "name": "ipython",
    "version": 3
   },
   "file_extension": ".py",
   "mimetype": "text/x-python",
   "name": "python",
   "nbconvert_exporter": "python",
   "pygments_lexer": "ipython3",
   "version": "3.8.13"
  }
 },
 "nbformat": 4,
 "nbformat_minor": 5
}
